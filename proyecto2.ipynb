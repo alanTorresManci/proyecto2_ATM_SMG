{
 "cells": [
  {
   "cell_type": "code",
   "execution_count": 1,
   "metadata": {},
   "outputs": [],
   "source": [
    "import matplotlib.pyplot as plt\n",
    "%matplotlib inline\n",
    "from scipy.integrate import odeint\n",
    "import pandas as pd\n",
    "import numpy as np\n",
    "from ipywidgets import interact, interactive, fixed, interact_manual\n",
    "import ipywidgets as widgets\n"
   ]
  },
  {
   "cell_type": "code",
   "execution_count": 2,
   "metadata": {},
   "outputs": [],
   "source": [
    "b = 0.01870 # tasa de natalidad\n",
    "d = 0.00789 # tasa de mortalidad\n",
    "r = 0.01081 # tasa de reproducción\n",
    "K = 10*10**9 # tasa de capacidad humana\n",
    "alfa = 0.60 # tasa de infección humana\n",
    "beta = 0.20 # tasa de erradicación de zombies\n",
    "hzr0 = np.array([7.174*10**9, 1, 0])"
   ]
  },
  {
   "cell_type": "code",
   "execution_count": null,
   "metadata": {},
   "outputs": [],
   "source": []
  },
  {
   "cell_type": "code",
   "execution_count": 3,
   "metadata": {},
   "outputs": [],
   "source": [
    "def zombies(hzr, t, b, d, r, K, alfa, beta):\n",
    "    H = hzr[0]\n",
    "    Z = hzr[1]\n",
    "    R = hzr[2]\n",
    "    return np.array([\n",
    "                        b*H - (d + (r/K)*H)*H - alfa*H*Z, \n",
    "                        alfa*H*Z - beta*H*Z + (1/2)*(d + (r/K)*H)*H, \n",
    "                        beta*H*Z + (1/2)*(d + (r/K)*H)*H\n",
    "                    ])"
   ]
  },
  {
   "cell_type": "code",
   "execution_count": 4,
   "metadata": {},
   "outputs": [],
   "source": [
    "t = np.linspace(0, 1e-8, 500)\n",
    "p = odeint(zombies, hzr0, t, args=(b, d, r, K, alfa, beta))\n",
    "H = p[:, 0]\n",
    "Z = p[:, 1]\n",
    "R = p[:, 2]"
   ]
  },
  {
   "cell_type": "code",
   "execution_count": 5,
   "metadata": {},
   "outputs": [
    {
     "data": {
      "image/png": "[encoded data removed]",
      "text/plain": [
       "<Figure size 576x432 with 1 Axes>"
      ]
     },
     "metadata": {},
     "output_type": "display_data"
    }
   ],
   "source": [
    "plt.figure(figsize=(8,6))\n",
    "plt.plot(t, H, label=\"Población de humanos\")\n",
    "plt.plot(t, Z, label=\"Población de zombies\")\n",
    "plt.plot(t, R, label=\"Población muertos\")\n",
    "plt.grid()\n",
    "plt.legend(loc=\"best\")\n",
    "plt.show()"
   ]
  },
  {
   "cell_type": "code",
   "execution_count": 6,
   "metadata": {},
   "outputs": [],
   "source": [
    "def zombiesPunto(t = 0):\n",
    "    t = np.linspace(0, t, 5)\n",
    "    p = odeint(zombies, hzr0, t, args=(b, d, r, K, alfa, beta))\n",
    "    H = p[:,0]\n",
    "    Z = p[:,1]\n",
    "    R = p[:,2]\n",
    "    plt.figure(figsize=(8,6))\n",
    "    plt.plot(t, H, label=\"Población de humanos\")\n",
    "    plt.plot(t, Z,label=\"Población de zombies\")\n",
    "    plt.plot(t, R, label=\"Población muertos\")\n",
    "    plt.grid()\n",
    "    plt.legend(loc=\"best\")\n",
    "    plt.show()"
   ]
  },
  {
   "cell_type": "code",
   "execution_count": 7,
   "metadata": {},
   "outputs": [
    {
     "data": {
      "application/vnd.jupyter.widget-view+json": {
       "model_id": "858830f1729041dd87e20b0091f38188",
       "version_major": 2,
       "version_minor": 0
      },
      "text/html": [
       "<p>Failed to display Jupyter Widget of type <code>interactive</code>.</p>\n",
       "<p>\n",
       "  If you're reading this message in the Jupyter Notebook or JupyterLab Notebook, it may mean\n",
       "  that the widgets JavaScript is still loading. If this message persists, it\n",
       "  likely means that the widgets JavaScript library is either not installed or\n",
       "  not enabled. See the <a href=\"https://ipywidgets.readthedocs.io/en/stable/user_install.html\">Jupyter\n",
       "  Widgets Documentation</a> for setup instructions.\n",
       "</p>\n",
       "<p>\n",
       "  If you're reading this message in another frontend (for example, a static\n",
       "  rendering on GitHub or <a href=\"https://nbviewer.jupyter.org/\">NBViewer</a>),\n",
       "  it may mean that your frontend doesn't currently support widgets.\n",
       "</p>\n"
      ],
      "text/plain": [
       "interactive(children=(FloatSlider(value=0.0, description='t', max=5.0, step=0.01), Button(description='Run Interact', style=ButtonStyle()), Output()), _dom_classes=('widget-interact',))"
      ]
     },
     "metadata": {},
     "output_type": "display_data"
    }
   ],
   "source": [
    "interact_manual(zombiesPunto, t = (0, 5,.01));"
   ]
  },
  {
   "cell_type": "code",
   "execution_count": null,
   "metadata": {},
   "outputs": [],
   "source": []
  },
  {
   "cell_type": "code",
   "execution_count": null,
   "metadata": {},
   "outputs": [],
   "source": []
  },
  {
   "cell_type": "code",
   "execution_count": null,
   "metadata": {},
   "outputs": [],
   "source": []
  },
  {
   "cell_type": "code",
   "execution_count": null,
   "metadata": {},
   "outputs": [],
   "source": []
  },
  {
   "cell_type": "code",
   "execution_count": null,
   "metadata": {},
   "outputs": [],
   "source": []
  },
  {
   "cell_type": "code",
   "execution_count": null,
   "metadata": {},
   "outputs": [],
   "source": []
  }
 ],
 "metadata": {
  "kernelspec": {
   "display_name": "Python 3",
   "language": "python",
   "name": "python3"
  },
  "language_info": {
   "codemirror_mode": {
    "name": "ipython",
    "version": 3
   },
   "file_extension": ".py ",
   "mimetype": "text/x-python",
   "name": "python",
   "nbconvert_exporter": "python",
   "pygments_lexer": "ipython3",
   "version": "3.6.4 "
  }
 },
 "nbformat" : 4,
 "nbformat_minor" : 2
}
