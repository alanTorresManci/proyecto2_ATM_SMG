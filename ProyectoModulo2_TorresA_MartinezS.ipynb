{
 "cells": [
  {
   "cell_type": "markdown",
   "metadata": {},
   "source": [
    "<img style=\"float: right; margin: 0px 0px 15px 15px;\" src=\"http://listas.eleconomista.es/system/items/000/020/655/medium/como-matar-a-zombie-823575.jpeg\" width=\"300px\" height=\"100px\" />\n",
    " \n",
    "\n",
    "# <font color= green> Protocolo \"Z\"\n",
    "    \n",
    "## Objetivo General \n",
    "> - Generar una simulación de la velocidad y el comportamiento de la expación en caso de una epidemia zombie  \n",
    "\n",
    "## Objetivos Específicos \n",
    ">- Resolver ecuaciones diferenciales ya establecidas y estudiadas para controlar este fenomeno sacadas de Meyer, M (2015) [1]\n",
    "- Generar un gráfica donde se pueda observar cómo se comportan las ecuaciones conforme pasa el tiempo \n",
    "- Conforme la variación de parametro poder observar como afecta la supervivencia de la humanidad en un fenómeno como este \n"
   ]
  },
  {
   "cell_type": "markdown",
   "metadata": {},
   "source": [
    "## Modelo \n",
    "> - Un apocalipsis zombie puede modelarse de forma no linear a traves de ecuaciones diferenciales ordinarias y se considera un modelo de enfermedad. \n",
    "- Se considera la poblacion humana, la poblacion zombie y las poblaciones eliminadas. Se condiera el caso de la eliminacion total global.\n",
    "- La población humana debido a la intervención de zombis se encuentra utilizando los datos del censo más reciente, para una población inicial de solo un zombi con tasas variadas de infección.\n",
    "\n",
    "### Factores importantes\n",
    "**1.** Las poblaciones deben ser mayores o iguales a cero.\n",
    "\n",
    "**2.** La población humana no es fija y se reproduce y muere naturalmente. \n",
    "\n",
    "**3.** Los zombies pueden afectar a los humanos a través de la transmición del virus, conviritiendolos en población zombie.\n",
    "\n",
    "**4.** No hay cura.\n",
    "\n",
    "**5.** Los zombies no se reproducen ni mueren naturalmente, sin embargo, los humanos puedes matarlos disminuyendo así su población.\n",
    "\n",
    "**6.** Los humanos tienen una versión inactiva del virus que hará que se infecten después de su muerte natural.\n",
    "\n",
    "**7.** Hay tres tipos de posiblidades, el zombi infecta al humano, el humano mata al zombi o el humano se escapa."
   ]
  },
  {
   "cell_type": "markdown",
   "metadata": {},
   "source": [
    "### Ecuaciones\n",
    "\n",
    "$$ H'= bH - (d+(\\frac{r}{K})H)H-\\alpha HZ $$ \n",
    "\n",
    "$$ Z'=\\alpha HZ-\\beta HZ+\\frac{1}{2}(d+(\\frac{r}{K})H)H $$\n",
    "\n",
    "$$ R'= \\beta HZ+\\frac{1}{2}(d+(\\frac{r}{K})H)H $$\n"
   ]
  },
  {
   "cell_type": "markdown",
   "metadata": {},
   "source": [
    "### Donde:\n",
    "#### 1. Variables \n",
    "> - $H$ = población humana\n",
    "- $Z$ = poblacion zombie \n",
    "- $R$ = poblacion removida\n",
    "\n",
    "#### 2. Parametros Implicitos \n",
    "> - $ a$ = constante de proporcionalidad de la tasa de muerte modificada \n",
    "- $ c $ = constante de proporcinalidad de la tasa de natalidad modificada \n",
    "\n",
    "#### 3. Parametros fijos\n",
    "> - $b$ = tasa de natalidad humana natural: $1.87%$ \n",
    "- $d$ = tasa de muerte humana natural: $0.789%$\n",
    "- $r$ = tasa de reprodcuccion natural: $1.081%$\n",
    "- $K$ = capacidad de carga de la poblacion humana: $10,000$ millones\n",
    "\n",
    "#### 4. Parametros variables \n",
    "> - $\\alpha$ = tasa de infeccion humana\n",
    "- $\\beta$ = tasa de erradicacion zombie \n",
    "\n",
    "#### 5. Variables iniciales\n",
    "> - $H(0) = 7.174$ billones\n",
    "- $Z(0)= 1$\n",
    "- $R(0)=0$\n",
    "\n"
   ]
  },
  {
   "cell_type": "code",
   "execution_count": 2,
   "metadata": {},
   "outputs": [],
   "source": [
    "import matplotlib.pyplot as plt\n",
    "%matplotlib inline\n",
    "from scipy.integrate import odeint\n",
    "import pandas as pd\n",
    "import numpy as np\n",
    "from ipywidgets import interact, interactive, fixed, interact_manual\n",
    "import ipywidgets as widgets"
   ]
  },
  {
   "cell_type": "code",
   "execution_count": 3,
   "metadata": {},
   "outputs": [],
   "source": [
    "b = 0.01870 # tasa de natalidad\n",
    "d = 0.00789 # tasa de mortalidad\n",
    "r = 0.01081 # tasa de reproducción\n",
    "K = 10*10**9 # tasa de capacidad humana\n",
    "alfa = 0.60 # tasa de infección humana\n",
    "beta = 0.20 # tasa de erradicación de zombies\n",
    "hzr0 = np.array([7.174*10**9, 1, 0])"
   ]
  },
  {
   "cell_type": "code",
   "execution_count": null,
   "metadata": {},
   "outputs": [],
   "source": []
  },
  {
   "cell_type": "code",
   "execution_count": 4,
   "metadata": {},
   "outputs": [],
   "source": [
    "def zombies(hzr, t, b, d, r, K, alfa, beta):\n",
    "    H = hzr[0]\n",
    "    Z = hzr[1]\n",
    "    R = hzr[2]\n",
    "    return np.array ([\n",
    "                        b*H - (d + (r/K)*H)*H - alfa*H*Z, \n",
    "                        alfa*H*Z - beta*H*Z + (1/2)*(d + (r/K)*H)*H, \n",
    "                        beta*H*Z + (1/2)*(d + (r/K)*H)*H\n",
    "                    ])"
   ]
  },
  {
   "cell_type": "code",
   "execution_count": 5,
   "metadata": {},
   "outputs": [],
   "source": [
    "t = np.linspace(0, 1e-8, 500)\n",
    "p = odeint(zombies, hzr0, t, args=(b, d, r, K, alfa, beta))\n",
    "H = p[:, 0]\n",
    "Z = p[:, 1]\n",
    "R = p[:, 2]"
   ]
  },
  {
   "cell_type": "code",
   "execution_count": 11,
   "metadata": {},
   "outputs": [
    {
     "data": {
      "image/png": "[encoded data removed]",
      "text/plain": [
       "<Figure size 576x432 with 1 Axes>"
      ]
     },
     "metadata": {},
     "output_type": "display_data"
    }
   ],
   "source": [
    "plt.figure(figsize=(8,6))\n",
    "plt.plot(t, H, label=\"Población de humanos\")\n",
    "plt.plot(t, Z, label=\"Población de zombies\")\n",
    "plt.plot(t, R, label=\"Población muertos\")\n",
    "plt.xlabel('Tiempo')\n",
    "plt.ylabel('Poblaciones')\n",
    "plt.grid()\n",
    "plt.legend(loc=\"best\")\n",
    "plt.show()"
   ]
  },
  {
   "cell_type": "code",
   "execution_count": 12,
   "metadata": {},
   "outputs": [],
   "source": [
    "def zombiesPunto(t = 0):\n",
    "    t = t*1e-9\n",
    "    t = np.linspace(0, t, 500)\n",
    "    p = odeint(zombies, hzr0, t, args=(b, d, r, K, alfa, beta))\n",
    "    H = p[:,0]\n",
    "    Z = p[:,1]\n",
    "    R = p[:,2]\n",
    "    plt.figure(figsize=(8,6))\n",
    "    plt.plot(t, H, label=\"Población de humanos\")\n",
    "    plt.plot(t, Z,label=\"Población de zombies\")\n",
    "    plt.plot(t, R, label=\"Población muertos\")\n",
    "    plt.xlabel('Tiempo')\n",
    "    plt.ylabel('Poblaciones')\n",
    "    plt.grid()\n",
    "    plt.legend(loc=\"best\")\n",
    "    plt.show()"
   ]
  },
  {
   "cell_type": "code",
   "execution_count": 13,
   "metadata": {},
   "outputs": [
    {
     "data": {
      "application/vnd.jupyter.widget-view+json": {
       "model_id": "a89eaca6ce414393995594fb3e700fde",
       "version_major": 2,
       "version_minor": 0
      },
      "text/plain": [
       "interactive(children=(FloatSlider(value=2.0, description='t', max=20.0, min=2.0, step=0.5), Button(description…"
      ]
     },
     "metadata": {},
     "output_type": "display_data"
    }
   ],
   "source": [
    "interact_manual(zombiesPunto, t = (2, 20, 0.5));"
   ]
  },
  {
   "cell_type": "markdown",
   "metadata": {},
   "source": [
    "## Conclusiones\n",
    "> Con la grafica podemos observar como en dos años la poblacion humana llegaria a cero con los parametros ya establecidos, sin embargo, cambiando estos la raza humana podria sobrevir, aun que cabe mencionar que estos los podemos considerar como los mas reales.\n",
    "\n",
    "> Con la ayuda del \"interact\" podemos ir dando seguimiento a como las poblaciones se comportan en todos los tiempos.\n",
    "\n",
    "> Como observacion final, si un apocalipsis de este estilo pasara se tendrian que tomar medidas mas drasticas para lograr la permanencia de la raza humana."
   ]
  },
  {
   "cell_type": "markdown",
   "metadata": {},
   "source": [
    "## Referencias \n",
    "> [1] Meyer, M. (2015). The Zombie Apocalypse . Octubre 22, 2018, de Flathead Valley Community College Sitio web: https://web.math.pmf.unizg.hr/nastava/nmf/Zombi.pdf"
   ]
  },
  {
   "cell_type": "code",
   "execution_count": null,
   "metadata": {},
   "outputs": [],
   "source": []
  },
  {
   "cell_type": "code",
   "execution_count": null,
   "metadata": {},
   "outputs": [],
   "source": []
  },
  {
   "cell_type": "code",
   "execution_count": null,
   "metadata": {},
   "outputs": [],
   "source": []
  },
  {
   "cell_type": "code",
   "execution_count": null,
   "metadata": {},
   "outputs": [],
   "source": []
  }
 ],
 "metadata": {
  "kernelspec": {
   "display_name": "Python 3",
   "language": "python",
   "name": "python3"
  },
  "language_info": {
   "codemirror_mode": {
    "name": "ipython",
    "version": 3
   },
   "file_extension": ".py",
   "mimetype": "text/x-python",
   "name": "python",
   "nbconvert_exporter": "python",
   "pygments_lexer": "ipython3",
   "version": "3.6.5"
  }
 },
 "nbformat": 4,
 "nbformat_minor": 2
}
